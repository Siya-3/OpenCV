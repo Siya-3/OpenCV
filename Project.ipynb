{
 "cells": [
  {
   "cell_type": "code",
   "execution_count": 12,
   "metadata": {},
   "outputs": [],
   "source": [
    "#flipping image\n",
    "img_flip=cv2.flip(img,1)  # 1 is forhorizontal axis (right to left)\n",
    "cv2.imshow(\"window\",img_flip)\n",
    "cv2.waitKey(0)\n",
    "cv2.destroyAllWindows()"
   ]
  },
  {
   "cell_type": "code",
   "execution_count": 13,
   "metadata": {},
   "outputs": [],
   "source": [
    "#flipping image\n",
    "img_flip=cv2.flip(img,-1)  # flip both horizontally and vertically\n",
    "cv2.imshow(\"window\",img_flip)\n",
    "cv2.waitKey(0)\n",
    "cv2.destroyAllWindows()"
   ]
  },
  {
   "cell_type": "code",
   "execution_count": 22,
   "metadata": {},
   "outputs": [],
   "source": [
    "#crop\n",
    "img_crop=img[0:300,0:300] # height,width\n",
    "cv2.imshow(\"window\",img_crop)\n",
    "cv2.waitKey(0)\n",
    "cv2.destroyAllWindows()"
   ]
  },
  {
   "cell_type": "code",
   "execution_count": 23,
   "metadata": {},
   "outputs": [],
   "source": [
    "#how to save an image\n",
    "img_flip=cv2.flip(img,1)\n",
    "cv2.imwrite('img_small.png',img_flip)\n",
    "cv2.imshow(\"window\",img_flip)\n",
    "cv2.waitKey(0)\n",
    "cv2.destroyAllWindows()"
   ]
  },
  {
   "cell_type": "code",
   "execution_count": 24,
   "metadata": {},
   "outputs": [],
   "source": [
    "#Drawing shapes\n",
    "#creating own image\n",
    "img = np.zeros((512,512,3))\n",
    "cv2.imshow('window',img)\n",
    "cv2.waitKey(0)\n",
    "cv2.destroyAllWindows()"
   ]
  },
  {
   "cell_type": "code",
   "execution_count": 26,
   "metadata": {},
   "outputs": [],
   "source": [
    "#rectangle\n",
    "cv2.rectangle(img,pt1=(100,100),pt2=(300,300),color=(255,0,0),thickness=3)  #parameters: img, top left, bottom right\n",
    "#color will be blue coz rest 2 are 0s, thickness\n",
    "cv2.imshow('window',img)\n",
    "cv2.waitKey(0)\n",
    "cv2.destroyAllWindows()"
   ]
  },
  {
   "cell_type": "code",
   "execution_count": 28,
   "metadata": {},
   "outputs": [],
   "source": [
    "#fill the rectangle\n",
    "cv2.rectangle(img,pt1=(100,100),pt2=(300,300),color=(255,0,0),thickness=-1)  #-1 fill the rectangle\n",
    "cv2.imshow('window',img)\n",
    "cv2.waitKey(0)\n",
    "cv2.destroyAllWindows()"
   ]
  },
  {
   "cell_type": "code",
   "execution_count": 31,
   "metadata": {},
   "outputs": [],
   "source": [
    "#circle\n",
    "cv2.circle(img,center=(100,400),radius=50,color=(0,0,255),thickness=-1)  #-1 fill the circle\n",
    "cv2.imshow('window',img)\n",
    "cv2.waitKey(0)\n",
    "cv2.destroyAllWindows()"
   ]
  },
  {
   "cell_type": "code",
   "execution_count": 38,
   "metadata": {},
   "outputs": [],
   "source": [
    "#line\n",
    "line = np.zeros((512,512,3))\n",
    "cv2.line(line,pt1=(0,0),pt2=(512,512),color=(0,70,0),thickness=2) \n",
    "cv2.imshow('window',line)\n",
    "cv2.waitKey(0)\n",
    "cv2.destroyAllWindows()"
   ]
  },
  {
   "cell_type": "code",
   "execution_count": 48,
   "metadata": {},
   "outputs": [],
   "source": [
    "#text\n",
    "text = np.zeros((512,512,3))\n",
    "cv2.putText(text,org=(100,100),fontScale=4,color=(0,255,255),thickness=2,\n",
    "            lineType=cv2.LINE_AA,text=\"Siddhi\",fontFace=cv2.FONT_ITALIC)\n",
    "cv2.imshow('window',text)\n",
    "cv2.waitKey(0)\n",
    "cv2.destroyAllWindows()"
   ]
  },
  {
   "cell_type": "code",
   "execution_count": 55,
   "metadata": {},
   "outputs": [
    {
     "name": "stdout",
     "output_type": "stream",
     "text": [
      "mouse up clicked\n",
      "mouse up clicked\n",
      "mouse up clicked\n",
      "mouse up clicked\n",
      "mouse up clicked\n",
      "mouse up clicked\n"
     ]
    }
   ],
   "source": [
    "#Live Direct Drawing\n",
    "\n",
    "def draw(event,x,y,flags,params):\n",
    "    \n",
    "    if event == 4:        # 0 = mouse moved, 1 = mouse down clicked\n",
    "        print(\"mouse up clicked\")\n",
    "\n",
    "cv2.namedWindow(winname=\"window\")\n",
    "cv2.setMouseCallback(\"window\",draw)\n",
    "\n",
    "img = np.zeros((512,512,3))\n",
    "\n",
    "while True:   #infinite loop\n",
    "    \n",
    "    cv2.imshow(\"window\",img)    #image will be displayed continuously(referesh image everytime)\n",
    "    \n",
    "    #code mostly used during videos\n",
    "    if cv2.waitKey(1) & 0xFF == ord('x'):  #close image  and 0xFF == ord('x') if u press x than loop breaks\n",
    "        break\n",
    "cv2.destroyAllWindows()"
   ]
  },
  {
   "cell_type": "code",
   "execution_count": 56,
   "metadata": {},
   "outputs": [],
   "source": [
    "#Live Direct Drawing\n",
    "\n",
    "def draw(event,x,y,flags,params):\n",
    "    \n",
    "    if event == 1:\n",
    "        cv2.circle(img,center=(x,y),radius=50,color=(0,0,255),thickness=-1)\n",
    "        \n",
    "cv2.namedWindow(winname=\"window\")\n",
    "cv2.setMouseCallback(\"window\",draw)\n",
    "\n",
    "img = np.zeros((512,512,3))\n",
    "\n",
    "while True:   #infinite loop\n",
    "    \n",
    "    cv2.imshow(\"window\",img)    #image will be displayed continuously(referesh image everytime)\n",
    "    \n",
    "    #code mostly used during videos\n",
    "    if cv2.waitKey(1) & 0xFF == ord('x'):  #close image  and 0xFF == ord('x') if u press x than loop breaks\n",
    "        break\n",
    "cv2.destroyAllWindows()"
   ]
  },
  {
   "cell_type": "code",
   "execution_count": 59,
   "metadata": {},
   "outputs": [],
   "source": [
    "#Live Direct Drawing\n",
    "\n",
    "def draw(event,x,y,flags,params):\n",
    "    \n",
    "    if event == 1:\n",
    "        cv2.circle(img,center=(x,y),radius=50,color=(0,0,255),thickness=-1)\n",
    "\n",
    "cv2.namedWindow(winname=\"window\")\n",
    "cv2.setMouseCallback(\"window\",draw)\n",
    "\n",
    "img = cv2.imread(\"img/img1.jpeg\")   #ur own image\n",
    "\n",
    "while True:   #infinite loop\n",
    "    \n",
    "    cv2.imshow(\"window\",img)    #image will be displayed continuously(referesh image everytime)\n",
    "    \n",
    "    #code mostly used during videos\n",
    "    if cv2.waitKey(1) & 0xFF == ord('x'):  #close image  and 0xFF == ord('x') if u press x than loop breaks\n",
    "        break\n",
    "cv2.destroyAllWindows()"
   ]
  },
  {
   "cell_type": "code",
   "execution_count": 72,
   "metadata": {},
   "outputs": [],
   "source": [
    "flag = False\n",
    "ix = -1\n",
    "iy = -1\n",
    "\n",
    "def draw(event,x,y,flags,params):\n",
    "    \n",
    "    global flag,ix,iy\n",
    "    \n",
    "    if event == 1:\n",
    "        flag = True\n",
    "        ix = x  #current mouse position\n",
    "        iy = y  #current mouse position\n",
    "        \n",
    "    elif event == 0:\n",
    "        if flag == True:\n",
    "            cv2.rectangle(img, pt1=(ix,iy),pt2=(x,y),color=(0,255,255),thickness=-1)\n",
    "    \n",
    "    elif event == 4:\n",
    "        flag = False\n",
    "        cv2.rectangle(img, pt1=(ix,iy),pt2=(x,y),color=(0,255,255),thickness=-1)\n",
    "\n",
    "cv2.namedWindow(winname=\"window\")\n",
    "cv2.setMouseCallback(\"window\",draw)\n",
    "\n",
    "img = np.zeros((512,512,3))\n",
    "\n",
    "while True:   #infinite loop\n",
    "    \n",
    "    cv2.imshow(\"window\",img)    #image will be displayed continuously(referesh image everytime)\n",
    "    \n",
    "    #code mostly used during videos\n",
    "    if cv2.waitKey(1) & 0xFF == ord('x'):  #close image  and 0xFF == ord('x') if u press x than loop breaks\n",
    "        break\n",
    "cv2.destroyAllWindows()"
   ]
  },
  {
   "cell_type": "code",
   "execution_count": 89,
   "metadata": {},
   "outputs": [],
   "source": [
    "#cropping tool\n",
    "img = cv2.imread(\"img/img1.jpeg\")\n",
    "\n",
    "flag = False\n",
    "ix = -1\n",
    "iy = -1\n",
    "\n",
    "def crop(event,x,y,flags,params):\n",
    "    global flag,ix,iy\n",
    "    \n",
    "    if event == 1:\n",
    "        flag = True\n",
    "        ix = x  #current mouse position\n",
    "        iy = y  #current mouse position\n",
    "        \n",
    "    #elif event == 0:\n",
    "        #if flag == True:\n",
    "            #cv2.rectangle(img, pt1=(ix,iy),pt2=(x,y),color=(0,0,0),thickness=1)\n",
    "    \n",
    "    elif event == 4:\n",
    "        \n",
    "        fx = x\n",
    "        fy = y\n",
    "        \n",
    "        flag = False\n",
    "        cv2.rectangle(img, pt1=(ix,iy),pt2=(x,y),color=(0,0,0),thickness=1)\n",
    "        #crop tools\n",
    "        cropped = img[iy:fy,ix:fx]\n",
    "        cv2.imwrite(\"cropped2.png\",cropped)\n",
    "        #cv2.waitKey(0)\n",
    "\n",
    "cv2.namedWindow(winname=\"window\")\n",
    "cv2.setMouseCallback(\"window\",crop)\n",
    "\n",
    "while True:\n",
    "    cv2.imshow(\"window\",img)\n",
    "    if cv2.waitKey(1) & 0xFF == ord('x'):\n",
    "        break\n",
    "cv2.destroyAllWindows()"
   ]
  },
  {
   "cell_type": "code",
   "execution_count": 104,
   "metadata": {},
   "outputs": [],
   "source": [
    "#video\n",
    "import cv2\n",
    "cap = cv2.VideoCapture(0)\n",
    "\n",
    "while True:\n",
    "    ret, frame = cap.read()\n",
    "    cv2.imshow(\"webcam\",frame)\n",
    "    \n",
    "    if cv2.waitKey(1) & 0xFF == ord('x'):\n",
    "        break\n",
    "cv2.destroyAllWindows()"
   ]
  },
  {
   "cell_type": "code",
   "execution_count": 97,
   "metadata": {},
   "outputs": [],
   "source": [
    "# B&W\n",
    "import cv2\n",
    "cap = cv2.VideoCapture(0)\n",
    "\n",
    "while True:\n",
    "    ret, frame = cap.read()\n",
    "    img_gray = cv2.cvtColor(frame, cv2.COLOR_BGR2LUV)   #bgr2gray, bgr2rgb\n",
    "    cv2.imshow(\"webcam\",img_gray)\n",
    "    \n",
    "    if cv2.waitKey(1) & 0xFF == ord('x'):\n",
    "        break\n",
    "cv2.destroyAllWindows()"
   ]
  },
  {
   "cell_type": "code",
   "execution_count": 102,
   "metadata": {},
   "outputs": [],
   "source": [
    "# store video\n",
    "import cv2\n",
    "cap = cv2.VideoCapture(0)\n",
    "fourcc = cv2.VideoWriter_fourcc(*'XVID')\n",
    "out = cv2.VideoWriter('output.avi',fourcc, 20.0,(648,488))\n",
    "\n",
    "while True:\n",
    "    ret, frame = cap.read()\n",
    "    out.write(frame)\n",
    "    \n",
    "    img_gray = cv2.cvtColor(frame, cv2.COLOR_BGR2LUV)   #bgr2gray, bgr2rgb\n",
    "    \n",
    "    cv2.imshow(\"webcam\",img_gray)\n",
    "    \n",
    "    if cv2.waitKey(1) & 0xFF == ord('x'):\n",
    "        break\n",
    "out.release()\n",
    "cv2.destroyAllWindows()"
   ]
  },
  {
   "cell_type": "code",
   "execution_count": null,
   "metadata": {},
   "outputs": [],
   "source": [
    "# store video with color\n",
    "import cv2\n",
    "cap = cv2.VideoCapture(0)\n",
    "fourcc = cv2.VideoWriter_fourcc(*'XVID')\n",
    "out = cv2.VideoWriter('output.avi',fourcc, 20.0,(648,488))\n",
    "\n",
    "while True:\n",
    "    ret, frame = cap.read()\n",
    "    \n",
    "    img_gray = cv2.cvtColor(frame, cv2.COLOR_BGR2LUV)   #bgr2gray, bgr2rgb\n",
    "    out.write(img_gray)\n",
    "\n",
    "    \n",
    "    cv2.imshow(\"webcam\",img_gray)\n",
    "    \n",
    "    if cv2.waitKey(1) & 0xFF == ord('x'):\n",
    "        break\n",
    "out.release()\n",
    "cv2.destroyAllWindows()"
   ]
  },
  {
   "cell_type": "code",
   "execution_count": 109,
   "metadata": {},
   "outputs": [],
   "source": [
    "import cv2\n",
    "import time\n",
    "\n",
    "cap = cv2.VideoCapture('vd.avi')\n",
    "\n",
    "while True:\n",
    "    ret, frame = cap.read()\n",
    "    \n",
    "    time.sleep(1/20)  # 1/20 correct speed, 0.5 delay\n",
    "    \n",
    "    cv2.imshow(\"webcam\",img_gray)\n",
    "    \n",
    "    if cv2.waitKey(1) & 0xFF == ord('x'):\n",
    "        break\n",
    "\n",
    "cv2.destroyAllWindows()"
   ]
  },
  {
   "cell_type": "code",
   "execution_count": 108,
   "metadata": {},
   "outputs": [],
   "source": [
    "# store video\n",
    "import cv2\n",
    "cap = cv2.VideoCapture(0)\n",
    "fourcc = cv2.VideoWriter_fourcc(*'XVID')\n",
    "out = cv2.VideoWriter('vd.avi',fourcc, 20.0,(648,488))\n",
    "\n",
    "while True:\n",
    "    ret, frame = cap.read()\n",
    "    out.write(frame)\n",
    "    \n",
    "    \n",
    "    cv2.imshow(\"webcam\",frame)\n",
    "    \n",
    "    if cv2.waitKey(1) & 0xFF == ord('x'):\n",
    "        break\n",
    "out.release()\n",
    "cv2.destroyAllWindows()"
   ]
  },
  {
   "cell_type": "code",
   "execution_count": null,
   "metadata": {},
   "outputs": [],
   "source": []
  }
 ],
 "metadata": {
  "kernelspec": {
   "display_name": "Python 3 (ipykernel)",
   "language": "python",
   "name": "python3"
  },
  "language_info": {
   "codemirror_mode": {
    "name": "ipython",
    "version": 3
   },
   "file_extension": ".py",
   "mimetype": "text/x-python",
   "name": "python",
   "nbconvert_exporter": "python",
   "pygments_lexer": "ipython3",
   "version": "3.9.12"
  }
 },
 "nbformat": 4,
 "nbformat_minor": 2
}
